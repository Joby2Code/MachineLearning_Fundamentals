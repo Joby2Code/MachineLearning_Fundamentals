{
 "cells": [
  {
   "cell_type": "code",
   "execution_count": 22,
   "metadata": {
    "collapsed": true
   },
   "outputs": [],
   "source": [
    "import numpy as np\n",
    "import random"
   ]
  },
  {
   "cell_type": "code",
   "execution_count": 20,
   "metadata": {
    "collapsed": false
   },
   "outputs": [
    {
     "name": "stdout",
     "output_type": "stream",
     "text": [
      "[  1.     5.75  10.5   15.25  20.  ]\n",
      "[[5 6]\n",
      " [1 2]]\n"
     ]
    }
   ],
   "source": [
    "y = np.linspace(1,20,5)\n",
    "x = np.array([[5,6],[1,2]])\n",
    "print(y)\n",
    "print(x)\n"
   ]
  },
  {
   "cell_type": "code",
   "execution_count": null,
   "metadata": {
    "collapsed": false
   },
   "outputs": [],
   "source": [
    "#help(np.array)\n",
    "#help(np.arange)\n",
    "help(np.transpose)"
   ]
  },
  {
   "cell_type": "code",
   "execution_count": 153,
   "metadata": {
    "collapsed": false
   },
   "outputs": [
    {
     "name": "stdout",
     "output_type": "stream",
     "text": [
      "(2, 3)\n",
      "[  1.   3.   2.   8.   6.   8.   9.   4.  10.]\n"
     ]
    }
   ],
   "source": [
    "M = np.ones(1)\n",
    "\n",
    "y = np.ones((2,3))\n",
    "           \n",
    "    \n",
    "    \n",
    "print(y.shape)            \n",
    "            \n",
    "i = 0\n",
    "while M[-1] != 10:\n",
    "    ran = random.randint(1,10)\n",
    "    M = np.append(M,ran)\n",
    "    i+=1\n",
    "    if i == 30:\n",
    "        break\n",
    "        \n",
    "print(M)\n",
    "\n",
    "\n"
   ]
  },
  {
   "cell_type": "code",
   "execution_count": 68,
   "metadata": {
    "collapsed": false
   },
   "outputs": [
    {
     "name": "stdout",
     "output_type": "stream",
     "text": [
      "1.0\n",
      "6\n",
      "4.66666666667\n"
     ]
    }
   ],
   "source": [
    "print(M[-6])\n",
    "print(M.size)\n",
    "print(np.mean(M))"
   ]
  },
  {
   "cell_type": "code",
   "execution_count": 108,
   "metadata": {
    "collapsed": false
   },
   "outputs": [
    {
     "name": "stdout",
     "output_type": "stream",
     "text": [
      "5\n",
      "Number is 5:[0,4]\n",
      "Number is 10:[1,4]\n",
      "Number is 15:[2,4]\n",
      "Number is 20:[3,4]\n",
      "Number is 25:[4,4]\n",
      "[  3.   6.   9.  12.  15.  18.  21.  24.  27.  30.  33.  36.  39.  42.  45.\n",
      "  48.]\n"
     ]
    }
   ],
   "source": [
    "M = np.array([1,2,3,4,5,6,7,8,9,10,11,12,13,14,15,16,17,18,19,20,21,22,23,24,25])\n",
    "M = M.reshape(5,5)\n",
    "\n",
    "print(np.size(M,1))\n",
    "\n",
    "for i in np.arange(np.size(M,0)):\n",
    "    for j in np.arange(np.size(M,1)):\n",
    "        \n",
    "        if M[i][j] % 5 == 0:\n",
    "            print('Number is '+str(M[i][j])+':['+str(i)+','+str(j)+']')\n",
    "            \n",
    "\n",
    "print(np.arange(3,50,3,dtype='float'))"
   ]
  },
  {
   "cell_type": "code",
   "execution_count": 145,
   "metadata": {
    "collapsed": false
   },
   "outputs": [
    {
     "name": "stdout",
     "output_type": "stream",
     "text": [
      "2\n",
      "int64\n",
      "(2, 2)\n",
      "[10 20 30]\n"
     ]
    }
   ],
   "source": [
    "A = np.array([[1,2],[4,5]])\n",
    "B = np.array([1,2,6,1])\n",
    "B = B.reshape(2,2)\n",
    "\n",
    "print(B.ndim)\n",
    "print(B.dtype)\n",
    "\n",
    "\n",
    "print(B.shape)\n",
    "\n",
    "x = np.array([10,20,30])\n",
    "print(x)\n",
    "x= np.transpose(x)\n",
    "\n"
   ]
  },
  {
   "cell_type": "code",
   "execution_count": 138,
   "metadata": {
    "collapsed": false
   },
   "outputs": [
    {
     "name": "stdout",
     "output_type": "stream",
     "text": [
      "[[ 1  4]\n",
      " [24  5]]\n"
     ]
    }
   ],
   "source": [
    "print(A*B)"
   ]
  },
  {
   "cell_type": "code",
   "execution_count": 139,
   "metadata": {
    "collapsed": false
   },
   "outputs": [
    {
     "data": {
      "text/plain": [
       "array([[13,  4],\n",
       "       [34, 13]])"
      ]
     },
     "execution_count": 139,
     "metadata": {},
     "output_type": "execute_result"
    }
   ],
   "source": [
    "np.dot(A,B) # scalar "
   ]
  },
  {
   "cell_type": "code",
   "execution_count": 140,
   "metadata": {
    "collapsed": false
   },
   "outputs": [
    {
     "data": {
      "text/plain": [
       "array([  0, -26])"
      ]
     },
     "execution_count": 140,
     "metadata": {},
     "output_type": "execute_result"
    }
   ],
   "source": [
    "np.cross(A,B) # cross product"
   ]
  },
  {
   "cell_type": "code",
   "execution_count": 141,
   "metadata": {
    "collapsed": false
   },
   "outputs": [
    {
     "data": {
      "text/plain": [
       "array([[-1.66666667,  0.66666667],\n",
       "       [ 1.33333333, -0.33333333]])"
      ]
     },
     "execution_count": 141,
     "metadata": {},
     "output_type": "execute_result"
    }
   ],
   "source": [
    "from numpy.linalg import inv # find the inverse\n",
    "inv(A) "
   ]
  },
  {
   "cell_type": "code",
   "execution_count": 172,
   "metadata": {
    "collapsed": false
   },
   "outputs": [
    {
     "name": "stdout",
     "output_type": "stream",
     "text": [
      "(3, 3)\n",
      "[ 4  7 45]\n",
      "[5 6 7]\n",
      "[[ 3  4]\n",
      " [ 6  7]\n",
      " [ 9 45]]\n",
      "[[ 5  6  7]\n",
      " [ 8  9 45]]\n"
     ]
    }
   ],
   "source": [
    "a = np.array([2,3,4,5,6,7,8,9,45])\n",
    "a= a.reshape(3,3)\n",
    "print(a.shape)\n",
    "\n",
    "#To get the position element at 1 from every row in the array\n",
    "print(a[0:3,2]) #Fetch based on rows\n",
    "print(a[1,0:3]) #Fetch based on columns\n",
    "\n",
    "print(a[:,1:3]) # include only the columns\n",
    "\n",
    "print(a[1:3,:]) # include  only the rows"
   ]
  },
  {
   "cell_type": "code",
   "execution_count": 184,
   "metadata": {
    "collapsed": false
   },
   "outputs": [
    {
     "name": "stdout",
     "output_type": "stream",
     "text": [
      "[[0 1]\n",
      " [2 3]\n",
      " [4 5]]\n",
      "[[ 0  1]\n",
      " [ 2  3]\n",
      " [ 4  5]\n",
      " [10 11]\n",
      " [12 13]\n",
      " [14 15]]\n",
      "[[ 0  1 10 11]\n",
      " [ 2  3 12 13]\n",
      " [ 4  5 14 15]]\n"
     ]
    }
   ],
   "source": [
    "a = np.arange(0,6).reshape(3,2)\n",
    "print(a)\n",
    "b = np.arange(10,16).reshape(3,2)\n",
    "stack_arr_v = np.vstack((a,b))\n",
    "\n",
    "print(stack_arr_v)\n",
    "\n",
    "stack_arr_h = np.hstack((a,b))\n",
    "\n",
    "print(stack_arr_h)"
   ]
  },
  {
   "cell_type": "code",
   "execution_count": 193,
   "metadata": {
    "collapsed": false
   },
   "outputs": [
    {
     "name": "stdout",
     "output_type": "stream",
     "text": [
      "[[ 0  1  2  3  4]\n",
      " [15 16 17 18 19]]\n",
      "[[ 0  1  2  3  4  5  6  7  8  9 10 11 12 13 14]]\n"
     ]
    }
   ],
   "source": [
    "a = np.arange(30).reshape(2,15)\n",
    "splt = np.hsplit(a,3) # Two way split horizontal\n",
    "spltv = np.vsplit(a,2) # Two way split vertical\n",
    "print(splt[0])\n",
    "print(spltv[0])\n"
   ]
  }
 ],
 "metadata": {
  "kernelspec": {
   "display_name": "Python 3",
   "language": "python",
   "name": "python3"
  },
  "language_info": {
   "codemirror_mode": {
    "name": "ipython",
    "version": 3
   },
   "file_extension": ".py",
   "mimetype": "text/x-python",
   "name": "python",
   "nbconvert_exporter": "python",
   "pygments_lexer": "ipython3",
   "version": "3.6.1"
  }
 },
 "nbformat": 4,
 "nbformat_minor": 2
}
