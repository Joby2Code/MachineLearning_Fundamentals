{
 "cells": [
  {
   "cell_type": "code",
   "execution_count": 30,
   "metadata": {
    "collapsed": false
   },
   "outputs": [],
   "source": [
    "import matplotlib.pyplot as py\n",
    "import pandas as pd\n",
    "%matplotlib inline"
   ]
  },
  {
   "cell_type": "code",
   "execution_count": 27,
   "metadata": {
    "collapsed": false
   },
   "outputs": [
    {
     "data": {
      "text/html": [
       "<div>\n",
       "<style>\n",
       "    .dataframe thead tr:only-child th {\n",
       "        text-align: right;\n",
       "    }\n",
       "\n",
       "    .dataframe thead th {\n",
       "        text-align: left;\n",
       "    }\n",
       "\n",
       "    .dataframe tbody tr th {\n",
       "        vertical-align: top;\n",
       "    }\n",
       "</style>\n",
       "<table border=\"1\" class=\"dataframe\">\n",
       "  <thead>\n",
       "    <tr style=\"text-align: right;\">\n",
       "      <th></th>\n",
       "      <th>EST</th>\n",
       "      <th>Temperature</th>\n",
       "      <th>DewPoint</th>\n",
       "      <th>Humidity</th>\n",
       "      <th>Sea Level PressureIn</th>\n",
       "      <th>VisibilityMiles</th>\n",
       "      <th>WindSpeedMPH</th>\n",
       "      <th>PrecipitationIn</th>\n",
       "      <th>CloudCover</th>\n",
       "      <th>Events</th>\n",
       "      <th>WindDirDegrees</th>\n",
       "    </tr>\n",
       "  </thead>\n",
       "  <tbody>\n",
       "    <tr>\n",
       "      <th>0</th>\n",
       "      <td>1/1/2016</td>\n",
       "      <td>38</td>\n",
       "      <td>23</td>\n",
       "      <td>0.0</td>\n",
       "      <td>30.03</td>\n",
       "      <td>10</td>\n",
       "      <td>8.0</td>\n",
       "      <td>0</td>\n",
       "      <td>5</td>\n",
       "      <td>No Events</td>\n",
       "      <td>281</td>\n",
       "    </tr>\n",
       "    <tr>\n",
       "      <th>1</th>\n",
       "      <td>1/2/2016</td>\n",
       "      <td>36</td>\n",
       "      <td>18</td>\n",
       "      <td>46.0</td>\n",
       "      <td>30.02</td>\n",
       "      <td>10</td>\n",
       "      <td>7.0</td>\n",
       "      <td>0</td>\n",
       "      <td>3</td>\n",
       "      <td>No Events</td>\n",
       "      <td>275</td>\n",
       "    </tr>\n",
       "    <tr>\n",
       "      <th>2</th>\n",
       "      <td>1/3/2016</td>\n",
       "      <td>40</td>\n",
       "      <td>21</td>\n",
       "      <td>47.0</td>\n",
       "      <td>29.86</td>\n",
       "      <td>10</td>\n",
       "      <td>8.0</td>\n",
       "      <td>0</td>\n",
       "      <td>1</td>\n",
       "      <td>No Events</td>\n",
       "      <td>277</td>\n",
       "    </tr>\n",
       "    <tr>\n",
       "      <th>3</th>\n",
       "      <td>1/4/2016</td>\n",
       "      <td>25</td>\n",
       "      <td>9</td>\n",
       "      <td>44.0</td>\n",
       "      <td>30.05</td>\n",
       "      <td>10</td>\n",
       "      <td>9.0</td>\n",
       "      <td>0</td>\n",
       "      <td>3</td>\n",
       "      <td>No Events</td>\n",
       "      <td>345</td>\n",
       "    </tr>\n",
       "    <tr>\n",
       "      <th>4</th>\n",
       "      <td>1/5/2016</td>\n",
       "      <td>20</td>\n",
       "      <td>-3</td>\n",
       "      <td>41.0</td>\n",
       "      <td>30.57</td>\n",
       "      <td>10</td>\n",
       "      <td>5.0</td>\n",
       "      <td>0</td>\n",
       "      <td>0</td>\n",
       "      <td>No Events</td>\n",
       "      <td>333</td>\n",
       "    </tr>\n",
       "  </tbody>\n",
       "</table>\n",
       "</div>"
      ],
      "text/plain": [
       "        EST  Temperature  DewPoint  Humidity  Sea Level PressureIn  \\\n",
       "0  1/1/2016           38        23       0.0                 30.03   \n",
       "1  1/2/2016           36        18      46.0                 30.02   \n",
       "2  1/3/2016           40        21      47.0                 29.86   \n",
       "3  1/4/2016           25         9      44.0                 30.05   \n",
       "4  1/5/2016           20        -3      41.0                 30.57   \n",
       "\n",
       "   VisibilityMiles  WindSpeedMPH PrecipitationIn  CloudCover     Events  \\\n",
       "0               10           8.0               0           5  No Events   \n",
       "1               10           7.0               0           3  No Events   \n",
       "2               10           8.0               0           1  No Events   \n",
       "3               10           9.0               0           3  No Events   \n",
       "4               10           5.0               0           0  No Events   \n",
       "\n",
       "   WindDirDegrees  \n",
       "0             281  \n",
       "1             275  \n",
       "2             277  \n",
       "3             345  \n",
       "4             333  "
      ]
     },
     "execution_count": 27,
     "metadata": {},
     "output_type": "execute_result"
    }
   ],
   "source": [
    "df = pd.read_csv('nyc_weather.csv', na_values={\n",
    "    'Temperature':['test'],\n",
    "    'Humidity':[52]    \n",
    "});\n",
    "df['Events'].fillna('No Events',inplace=True)\n",
    "df.fillna(0.0,inplace=True)\n",
    "df.head()"
   ]
  },
  {
   "cell_type": "code",
   "execution_count": 37,
   "metadata": {
    "collapsed": false
   },
   "outputs": [],
   "source": [
    "x = df['DewPoint']\n",
    "y = df['Temperature']\n"
   ]
  },
  {
   "cell_type": "code",
   "execution_count": 59,
   "metadata": {
    "collapsed": false
   },
   "outputs": [
    {
     "data": {
      "image/png": "[encoded data removed]",
      "text/plain": [
       "<matplotlib.figure.Figure at 0x1169e3860>"
      ]
     },
     "metadata": {},
     "output_type": "display_data"
    }
   ],
   "source": [
    "py.xlabel('DewPoint')\n",
    "py.ylabel('Temperature')\n",
    "py.title('POC')\n",
    "py.plot(x,y,'g+', label='Temperature')\n",
    "py.legend()\n",
    "py.grid()"
   ]
  }
 ],
 "metadata": {
  "kernelspec": {
   "display_name": "Python 3",
   "language": "python",
   "name": "python3"
  },
  "language_info": {
   "codemirror_mode": {
    "name": "ipython",
    "version": 3
   },
   "file_extension": ".py",
   "mimetype": "text/x-python",
   "name": "python",
   "nbconvert_exporter": "python",
   "pygments_lexer": "ipython3",
   "version": "3.6.1"
  }
 },
 "nbformat": 4,
 "nbformat_minor": 2
}
